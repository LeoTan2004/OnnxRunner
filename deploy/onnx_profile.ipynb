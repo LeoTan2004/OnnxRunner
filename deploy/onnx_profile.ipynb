{
 "cells": [
  {
   "metadata": {},
   "cell_type": "markdown",
   "source": "使用原生运行",
   "id": "daf553fdcd7045e8"
  },
  {
   "metadata": {
    "ExecuteTime": {
     "end_time": "2024-05-14T16:38:36.918981Z",
     "start_time": "2024-05-14T16:38:36.228960Z"
    }
   },
   "cell_type": "code",
   "source": [
    "import cv2\n",
    "from onnx_runner.source.source import IdGeneratorFactory\n",
    "from onnx_runner.source.dir_img import DirImg\n",
    "from yolo import YOLO_ONNX_DETECT\n",
    "import numpy as np\n",
    "from PIL import Image\n",
    "\n",
    "detect = YOLO_ONNX_DETECT()\n",
    "\n",
    "\n",
    "def det(frame):\n",
    "    frame = cv2.cvtColor(frame, cv2.COLOR_BGR2RGB)\n",
    "    # 转变成Image\n",
    "    frame = Image.fromarray(np.uint8(frame))\n",
    "    # 进行检测\n",
    "    res, cost_time = detect.detect_image(frame)\n",
    "    return cost_time\n"
   ],
   "id": "35da8721eaec1308",
   "execution_count": 21,
   "outputs": []
  },
  {
   "metadata": {
    "ExecuteTime": {
     "end_time": "2024-05-15T01:27:08.862138Z",
     "start_time": "2024-05-15T01:27:03.947955Z"
    }
   },
   "cell_type": "code",
   "source": [
    "time_table = []\n",
    "idg = IdGeneratorFactory.auto_incr_id(-1, 1)\n",
    "with DirImg('../test-set/img') as source:\n",
    "    for img in source:\n",
    "        idx = idg.get_id_for(None)\n",
    "        time_table.append(det(img))\n"
   ],
   "id": "58a5c355bd1a6a22",
   "execution_count": 26,
   "outputs": []
  },
  {
   "metadata": {},
   "cell_type": "markdown",
   "source": "加载所需的对象",
   "id": "1ae26acd0260f293"
  },
  {
   "metadata": {
    "ExecuteTime": {
     "end_time": "2024-05-14T16:40:41.889721Z",
     "start_time": "2024-05-14T16:40:41.881514Z"
    }
   },
   "cell_type": "code",
   "source": [
    "op_count = 54953574592\n",
    "flops = op_count / np.array(time_table)\n",
    "flops.mean()"
   ],
   "id": "fec41283af2e31ca",
   "execution_count": 23,
   "outputs": []
  },
  {
   "metadata": {},
   "cell_type": "markdown",
   "source": "执行代码",
   "id": "b83f6c613c9fcd61"
  },
  {
   "metadata": {
    "ExecuteTime": {
     "end_time": "2024-05-15T01:14:29.506195Z",
     "start_time": "2024-05-15T01:14:29.143595Z"
    }
   },
   "cell_type": "code",
   "source": [
    "import matplotlib.pyplot as plt\n",
    "%matplotlib inline\n",
    "\n",
    "x = list(range(1,flops.size+1))\n",
    "\n",
    "a = plt.bar(x,flops)\n",
    "\n",
    "plt.xlabel('Pic')\n",
    "plt.ylabel('flops')\n",
    "plt.title('Onnx Model flops Statistics')\n",
    "plt.show()"
   ],
   "id": "59f1dc511eb9117f",
   "execution_count": 25,
   "outputs": []
  },
  {
   "metadata": {
    "ExecuteTime": {
     "end_time": "2024-05-14T16:40:42.086196Z",
     "start_time": "2024-05-14T16:40:42.084514Z"
    }
   },
   "cell_type": "code",
   "source": "",
   "id": "4894788461a2d481",
   "execution_count": 24,
   "outputs": []
  }
 ],
 "metadata": {
  "kernelspec": {
   "display_name": "Python 3",
   "language": "python",
   "name": "python3"
  },
  "language_info": {
   "codemirror_mode": {
    "name": "ipython",
    "version": 2
   },
   "file_extension": ".py",
   "mimetype": "text/x-python",
   "name": "python",
   "nbconvert_exporter": "python",
   "pygments_lexer": "ipython2",
   "version": "2.7.6"
  }
 },
 "nbformat": 4,
 "nbformat_minor": 5
}
